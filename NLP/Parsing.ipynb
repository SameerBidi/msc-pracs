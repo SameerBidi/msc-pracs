{
 "cells": [
  {
   "cell_type": "markdown",
   "metadata": {},
   "source": [
    "### Parsing"
   ]
  },
  {
   "cell_type": "code",
   "execution_count": 1,
   "metadata": {},
   "outputs": [],
   "source": [
    "text = \"The quick brown fox jumps over the lazy dog.\""
   ]
  },
  {
   "cell_type": "code",
   "execution_count": 4,
   "metadata": {},
   "outputs": [
    {
     "data": {
      "text/plain": [
       "The quick brown fox jumps over the lazy dog."
      ]
     },
     "execution_count": 4,
     "metadata": {},
     "output_type": "execute_result"
    }
   ],
   "source": [
    "import spacy\n",
    "\n",
    "model = spacy.load(\"en_core_web_sm\")\n",
    "\n",
    "tokens = model(text)"
   ]
  },
  {
   "cell_type": "code",
   "execution_count": 6,
   "metadata": {},
   "outputs": [
    {
     "name": "stdout",
     "output_type": "stream",
     "text": [
      "The -> DET\n",
      "quick -> ADJ\n",
      "brown -> ADJ\n",
      "fox -> NOUN\n",
      "jumps -> VERB\n",
      "over -> ADP\n",
      "the -> DET\n",
      "lazy -> ADJ\n",
      "dog -> NOUN\n",
      ". -> PUNCT\n"
     ]
    }
   ],
   "source": [
    "# Part of Speech Tagging\n",
    "\n",
    "for token in tokens:\n",
    "    print(f\"{token.text} -> {token.pos_}\")"
   ]
  },
  {
   "cell_type": "code",
   "execution_count": 8,
   "metadata": {},
   "outputs": [
    {
     "name": "stdout",
     "output_type": "stream",
     "text": [
      "The -> det (fox)\n",
      "quick -> amod (fox)\n",
      "brown -> amod (fox)\n",
      "fox -> nsubj (jumps)\n",
      "jumps -> ROOT (jumps)\n",
      "over -> prep (jumps)\n",
      "the -> det (dog)\n",
      "lazy -> amod (dog)\n",
      "dog -> pobj (over)\n",
      ". -> punct (jumps)\n"
     ]
    }
   ],
   "source": [
    "# Syntactic Parsing\n",
    "\n",
    "for token in tokens:\n",
    "    print(f\"{token.text} -> {token.dep_} ({token.head.text})\")"
   ]
  },
  {
   "cell_type": "code",
   "execution_count": 14,
   "metadata": {},
   "outputs": [
    {
     "name": "stdout",
     "output_type": "stream",
     "text": [
      "Sameer Bidi -> (PERSON)\n",
      "India -> (GPE)\n"
     ]
    }
   ],
   "source": [
    "# Named Entity Recognition\n",
    "\n",
    "text = \"My name is Sameer Bidi. I live in India. My email is test@test.com\"\n",
    "\n",
    "tokens = model(text)\n",
    "\n",
    "for token_ent in tokens.ents:\n",
    "    print(f\"{token_ent.text} -> ({token_ent.label_})\")"
   ]
  },
  {
   "cell_type": "code",
   "execution_count": null,
   "metadata": {},
   "outputs": [],
   "source": []
  }
 ],
 "metadata": {
  "kernelspec": {
   "display_name": ".venv",
   "language": "python",
   "name": "python3"
  },
  "language_info": {
   "codemirror_mode": {
    "name": "ipython",
    "version": 3
   },
   "file_extension": ".py",
   "mimetype": "text/x-python",
   "name": "python",
   "nbconvert_exporter": "python",
   "pygments_lexer": "ipython3",
   "version": "3.11.1"
  },
  "orig_nbformat": 4
 },
 "nbformat": 4,
 "nbformat_minor": 2
}
